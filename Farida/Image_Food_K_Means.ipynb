{
  "nbformat": 4,
  "nbformat_minor": 0,
  "metadata": {
    "colab": {
      "provenance": []
    },
    "kernelspec": {
      "name": "python3",
      "display_name": "Python 3"
    },
    "language_info": {
      "name": "python"
    },
    "widgets": {
      "application/vnd.jupyter.widget-state+json": {
        "e7e1f555a86d4ee09cffee1c0f2efad9": {
          "model_module": "@jupyter-widgets/controls",
          "model_name": "HBoxModel",
          "model_module_version": "1.5.0",
          "state": {
            "_dom_classes": [],
            "_model_module": "@jupyter-widgets/controls",
            "_model_module_version": "1.5.0",
            "_model_name": "HBoxModel",
            "_view_count": null,
            "_view_module": "@jupyter-widgets/controls",
            "_view_module_version": "1.5.0",
            "_view_name": "HBoxView",
            "box_style": "",
            "children": [
              "IPY_MODEL_70405df2c0204d2891fba61d3dd9b87b",
              "IPY_MODEL_a6f3a11582c94db0908ad8031fb6efc1",
              "IPY_MODEL_9e8db87e1d5346d797532c9ea5c57705"
            ],
            "layout": "IPY_MODEL_59ce94f5f3254ffea5ae19cbcca10017"
          }
        },
        "70405df2c0204d2891fba61d3dd9b87b": {
          "model_module": "@jupyter-widgets/controls",
          "model_name": "HTMLModel",
          "model_module_version": "1.5.0",
          "state": {
            "_dom_classes": [],
            "_model_module": "@jupyter-widgets/controls",
            "_model_module_version": "1.5.0",
            "_model_name": "HTMLModel",
            "_view_count": null,
            "_view_module": "@jupyter-widgets/controls",
            "_view_module_version": "1.5.0",
            "_view_name": "HTMLView",
            "description": "",
            "description_tooltip": null,
            "layout": "IPY_MODEL_0ba10ad3396a49779c4f9229f7bdb8fc",
            "placeholder": "​",
            "style": "IPY_MODEL_84e4448554fa44d4b286a86b1355f3f1",
            "value": "Extract Train Image Features: 100%"
          }
        },
        "a6f3a11582c94db0908ad8031fb6efc1": {
          "model_module": "@jupyter-widgets/controls",
          "model_name": "FloatProgressModel",
          "model_module_version": "1.5.0",
          "state": {
            "_dom_classes": [],
            "_model_module": "@jupyter-widgets/controls",
            "_model_module_version": "1.5.0",
            "_model_name": "FloatProgressModel",
            "_view_count": null,
            "_view_module": "@jupyter-widgets/controls",
            "_view_module_version": "1.5.0",
            "_view_name": "ProgressView",
            "bar_style": "success",
            "description": "",
            "description_tooltip": null,
            "layout": "IPY_MODEL_21a0dc2bea40433fa020e2f998263e6c",
            "max": 352,
            "min": 0,
            "orientation": "horizontal",
            "style": "IPY_MODEL_863b7c2548a64ab7b42f0038dcc059d5",
            "value": 352
          }
        },
        "9e8db87e1d5346d797532c9ea5c57705": {
          "model_module": "@jupyter-widgets/controls",
          "model_name": "HTMLModel",
          "model_module_version": "1.5.0",
          "state": {
            "_dom_classes": [],
            "_model_module": "@jupyter-widgets/controls",
            "_model_module_version": "1.5.0",
            "_model_name": "HTMLModel",
            "_view_count": null,
            "_view_module": "@jupyter-widgets/controls",
            "_view_module_version": "1.5.0",
            "_view_name": "HTMLView",
            "description": "",
            "description_tooltip": null,
            "layout": "IPY_MODEL_1f1ac3e169bd436aae6708d31cfca46c",
            "placeholder": "​",
            "style": "IPY_MODEL_6853ed5e2674417b9866659a7e8a61e7",
            "value": " 352/352 [05:44&lt;00:00,  1.22it/s]"
          }
        },
        "59ce94f5f3254ffea5ae19cbcca10017": {
          "model_module": "@jupyter-widgets/base",
          "model_name": "LayoutModel",
          "model_module_version": "1.2.0",
          "state": {
            "_model_module": "@jupyter-widgets/base",
            "_model_module_version": "1.2.0",
            "_model_name": "LayoutModel",
            "_view_count": null,
            "_view_module": "@jupyter-widgets/base",
            "_view_module_version": "1.2.0",
            "_view_name": "LayoutView",
            "align_content": null,
            "align_items": null,
            "align_self": null,
            "border": null,
            "bottom": null,
            "display": null,
            "flex": null,
            "flex_flow": null,
            "grid_area": null,
            "grid_auto_columns": null,
            "grid_auto_flow": null,
            "grid_auto_rows": null,
            "grid_column": null,
            "grid_gap": null,
            "grid_row": null,
            "grid_template_areas": null,
            "grid_template_columns": null,
            "grid_template_rows": null,
            "height": null,
            "justify_content": null,
            "justify_items": null,
            "left": null,
            "margin": null,
            "max_height": null,
            "max_width": null,
            "min_height": null,
            "min_width": null,
            "object_fit": null,
            "object_position": null,
            "order": null,
            "overflow": null,
            "overflow_x": null,
            "overflow_y": null,
            "padding": null,
            "right": null,
            "top": null,
            "visibility": null,
            "width": null
          }
        },
        "0ba10ad3396a49779c4f9229f7bdb8fc": {
          "model_module": "@jupyter-widgets/base",
          "model_name": "LayoutModel",
          "model_module_version": "1.2.0",
          "state": {
            "_model_module": "@jupyter-widgets/base",
            "_model_module_version": "1.2.0",
            "_model_name": "LayoutModel",
            "_view_count": null,
            "_view_module": "@jupyter-widgets/base",
            "_view_module_version": "1.2.0",
            "_view_name": "LayoutView",
            "align_content": null,
            "align_items": null,
            "align_self": null,
            "border": null,
            "bottom": null,
            "display": null,
            "flex": null,
            "flex_flow": null,
            "grid_area": null,
            "grid_auto_columns": null,
            "grid_auto_flow": null,
            "grid_auto_rows": null,
            "grid_column": null,
            "grid_gap": null,
            "grid_row": null,
            "grid_template_areas": null,
            "grid_template_columns": null,
            "grid_template_rows": null,
            "height": null,
            "justify_content": null,
            "justify_items": null,
            "left": null,
            "margin": null,
            "max_height": null,
            "max_width": null,
            "min_height": null,
            "min_width": null,
            "object_fit": null,
            "object_position": null,
            "order": null,
            "overflow": null,
            "overflow_x": null,
            "overflow_y": null,
            "padding": null,
            "right": null,
            "top": null,
            "visibility": null,
            "width": null
          }
        },
        "84e4448554fa44d4b286a86b1355f3f1": {
          "model_module": "@jupyter-widgets/controls",
          "model_name": "DescriptionStyleModel",
          "model_module_version": "1.5.0",
          "state": {
            "_model_module": "@jupyter-widgets/controls",
            "_model_module_version": "1.5.0",
            "_model_name": "DescriptionStyleModel",
            "_view_count": null,
            "_view_module": "@jupyter-widgets/base",
            "_view_module_version": "1.2.0",
            "_view_name": "StyleView",
            "description_width": ""
          }
        },
        "21a0dc2bea40433fa020e2f998263e6c": {
          "model_module": "@jupyter-widgets/base",
          "model_name": "LayoutModel",
          "model_module_version": "1.2.0",
          "state": {
            "_model_module": "@jupyter-widgets/base",
            "_model_module_version": "1.2.0",
            "_model_name": "LayoutModel",
            "_view_count": null,
            "_view_module": "@jupyter-widgets/base",
            "_view_module_version": "1.2.0",
            "_view_name": "LayoutView",
            "align_content": null,
            "align_items": null,
            "align_self": null,
            "border": null,
            "bottom": null,
            "display": null,
            "flex": null,
            "flex_flow": null,
            "grid_area": null,
            "grid_auto_columns": null,
            "grid_auto_flow": null,
            "grid_auto_rows": null,
            "grid_column": null,
            "grid_gap": null,
            "grid_row": null,
            "grid_template_areas": null,
            "grid_template_columns": null,
            "grid_template_rows": null,
            "height": null,
            "justify_content": null,
            "justify_items": null,
            "left": null,
            "margin": null,
            "max_height": null,
            "max_width": null,
            "min_height": null,
            "min_width": null,
            "object_fit": null,
            "object_position": null,
            "order": null,
            "overflow": null,
            "overflow_x": null,
            "overflow_y": null,
            "padding": null,
            "right": null,
            "top": null,
            "visibility": null,
            "width": null
          }
        },
        "863b7c2548a64ab7b42f0038dcc059d5": {
          "model_module": "@jupyter-widgets/controls",
          "model_name": "ProgressStyleModel",
          "model_module_version": "1.5.0",
          "state": {
            "_model_module": "@jupyter-widgets/controls",
            "_model_module_version": "1.5.0",
            "_model_name": "ProgressStyleModel",
            "_view_count": null,
            "_view_module": "@jupyter-widgets/base",
            "_view_module_version": "1.2.0",
            "_view_name": "StyleView",
            "bar_color": null,
            "description_width": ""
          }
        },
        "1f1ac3e169bd436aae6708d31cfca46c": {
          "model_module": "@jupyter-widgets/base",
          "model_name": "LayoutModel",
          "model_module_version": "1.2.0",
          "state": {
            "_model_module": "@jupyter-widgets/base",
            "_model_module_version": "1.2.0",
            "_model_name": "LayoutModel",
            "_view_count": null,
            "_view_module": "@jupyter-widgets/base",
            "_view_module_version": "1.2.0",
            "_view_name": "LayoutView",
            "align_content": null,
            "align_items": null,
            "align_self": null,
            "border": null,
            "bottom": null,
            "display": null,
            "flex": null,
            "flex_flow": null,
            "grid_area": null,
            "grid_auto_columns": null,
            "grid_auto_flow": null,
            "grid_auto_rows": null,
            "grid_column": null,
            "grid_gap": null,
            "grid_row": null,
            "grid_template_areas": null,
            "grid_template_columns": null,
            "grid_template_rows": null,
            "height": null,
            "justify_content": null,
            "justify_items": null,
            "left": null,
            "margin": null,
            "max_height": null,
            "max_width": null,
            "min_height": null,
            "min_width": null,
            "object_fit": null,
            "object_position": null,
            "order": null,
            "overflow": null,
            "overflow_x": null,
            "overflow_y": null,
            "padding": null,
            "right": null,
            "top": null,
            "visibility": null,
            "width": null
          }
        },
        "6853ed5e2674417b9866659a7e8a61e7": {
          "model_module": "@jupyter-widgets/controls",
          "model_name": "DescriptionStyleModel",
          "model_module_version": "1.5.0",
          "state": {
            "_model_module": "@jupyter-widgets/controls",
            "_model_module_version": "1.5.0",
            "_model_name": "DescriptionStyleModel",
            "_view_count": null,
            "_view_module": "@jupyter-widgets/base",
            "_view_module_version": "1.2.0",
            "_view_name": "StyleView",
            "description_width": ""
          }
        },
        "d2f98606381e47b28b49a3a6c440117d": {
          "model_module": "@jupyter-widgets/controls",
          "model_name": "HBoxModel",
          "model_module_version": "1.5.0",
          "state": {
            "_dom_classes": [],
            "_model_module": "@jupyter-widgets/controls",
            "_model_module_version": "1.5.0",
            "_model_name": "HBoxModel",
            "_view_count": null,
            "_view_module": "@jupyter-widgets/controls",
            "_view_module_version": "1.5.0",
            "_view_name": "HBoxView",
            "box_style": "",
            "children": [
              "IPY_MODEL_0b64d4b314964d98b4f3f30780b85f1c",
              "IPY_MODEL_9682756630494a8da479fb9239e60a10",
              "IPY_MODEL_16f961bc8f88428a9401450ecf65fdf4"
            ],
            "layout": "IPY_MODEL_96b9d305de8a484aa1d3fe77feac8b71"
          }
        },
        "0b64d4b314964d98b4f3f30780b85f1c": {
          "model_module": "@jupyter-widgets/controls",
          "model_name": "HTMLModel",
          "model_module_version": "1.5.0",
          "state": {
            "_dom_classes": [],
            "_model_module": "@jupyter-widgets/controls",
            "_model_module_version": "1.5.0",
            "_model_name": "HTMLModel",
            "_view_count": null,
            "_view_module": "@jupyter-widgets/controls",
            "_view_module_version": "1.5.0",
            "_view_name": "HTMLView",
            "description": "",
            "description_tooltip": null,
            "layout": "IPY_MODEL_a478881fec4d4eae882ed22db1a56b2a",
            "placeholder": "​",
            "style": "IPY_MODEL_15000748001543618e0502b63f1fcf51",
            "value": "Extract Val Image Features: 100%"
          }
        },
        "9682756630494a8da479fb9239e60a10": {
          "model_module": "@jupyter-widgets/controls",
          "model_name": "FloatProgressModel",
          "model_module_version": "1.5.0",
          "state": {
            "_dom_classes": [],
            "_model_module": "@jupyter-widgets/controls",
            "_model_module_version": "1.5.0",
            "_model_name": "FloatProgressModel",
            "_view_count": null,
            "_view_module": "@jupyter-widgets/controls",
            "_view_module_version": "1.5.0",
            "_view_name": "ProgressView",
            "bar_style": "success",
            "description": "",
            "description_tooltip": null,
            "layout": "IPY_MODEL_6837e737df02453bbbbcfc87006e0bb3",
            "max": 150,
            "min": 0,
            "orientation": "horizontal",
            "style": "IPY_MODEL_9dfcae1159844b5e9a7405f2500c302c",
            "value": 150
          }
        },
        "16f961bc8f88428a9401450ecf65fdf4": {
          "model_module": "@jupyter-widgets/controls",
          "model_name": "HTMLModel",
          "model_module_version": "1.5.0",
          "state": {
            "_dom_classes": [],
            "_model_module": "@jupyter-widgets/controls",
            "_model_module_version": "1.5.0",
            "_model_name": "HTMLModel",
            "_view_count": null,
            "_view_module": "@jupyter-widgets/controls",
            "_view_module_version": "1.5.0",
            "_view_name": "HTMLView",
            "description": "",
            "description_tooltip": null,
            "layout": "IPY_MODEL_69bbc85667aa45a69f46915dd3b5f4da",
            "placeholder": "​",
            "style": "IPY_MODEL_0944c63f26ee42a1a0a9e0c474741493",
            "value": " 150/150 [10:33&lt;00:00,  4.22s/it]"
          }
        },
        "96b9d305de8a484aa1d3fe77feac8b71": {
          "model_module": "@jupyter-widgets/base",
          "model_name": "LayoutModel",
          "model_module_version": "1.2.0",
          "state": {
            "_model_module": "@jupyter-widgets/base",
            "_model_module_version": "1.2.0",
            "_model_name": "LayoutModel",
            "_view_count": null,
            "_view_module": "@jupyter-widgets/base",
            "_view_module_version": "1.2.0",
            "_view_name": "LayoutView",
            "align_content": null,
            "align_items": null,
            "align_self": null,
            "border": null,
            "bottom": null,
            "display": null,
            "flex": null,
            "flex_flow": null,
            "grid_area": null,
            "grid_auto_columns": null,
            "grid_auto_flow": null,
            "grid_auto_rows": null,
            "grid_column": null,
            "grid_gap": null,
            "grid_row": null,
            "grid_template_areas": null,
            "grid_template_columns": null,
            "grid_template_rows": null,
            "height": null,
            "justify_content": null,
            "justify_items": null,
            "left": null,
            "margin": null,
            "max_height": null,
            "max_width": null,
            "min_height": null,
            "min_width": null,
            "object_fit": null,
            "object_position": null,
            "order": null,
            "overflow": null,
            "overflow_x": null,
            "overflow_y": null,
            "padding": null,
            "right": null,
            "top": null,
            "visibility": null,
            "width": null
          }
        },
        "a478881fec4d4eae882ed22db1a56b2a": {
          "model_module": "@jupyter-widgets/base",
          "model_name": "LayoutModel",
          "model_module_version": "1.2.0",
          "state": {
            "_model_module": "@jupyter-widgets/base",
            "_model_module_version": "1.2.0",
            "_model_name": "LayoutModel",
            "_view_count": null,
            "_view_module": "@jupyter-widgets/base",
            "_view_module_version": "1.2.0",
            "_view_name": "LayoutView",
            "align_content": null,
            "align_items": null,
            "align_self": null,
            "border": null,
            "bottom": null,
            "display": null,
            "flex": null,
            "flex_flow": null,
            "grid_area": null,
            "grid_auto_columns": null,
            "grid_auto_flow": null,
            "grid_auto_rows": null,
            "grid_column": null,
            "grid_gap": null,
            "grid_row": null,
            "grid_template_areas": null,
            "grid_template_columns": null,
            "grid_template_rows": null,
            "height": null,
            "justify_content": null,
            "justify_items": null,
            "left": null,
            "margin": null,
            "max_height": null,
            "max_width": null,
            "min_height": null,
            "min_width": null,
            "object_fit": null,
            "object_position": null,
            "order": null,
            "overflow": null,
            "overflow_x": null,
            "overflow_y": null,
            "padding": null,
            "right": null,
            "top": null,
            "visibility": null,
            "width": null
          }
        },
        "15000748001543618e0502b63f1fcf51": {
          "model_module": "@jupyter-widgets/controls",
          "model_name": "DescriptionStyleModel",
          "model_module_version": "1.5.0",
          "state": {
            "_model_module": "@jupyter-widgets/controls",
            "_model_module_version": "1.5.0",
            "_model_name": "DescriptionStyleModel",
            "_view_count": null,
            "_view_module": "@jupyter-widgets/base",
            "_view_module_version": "1.2.0",
            "_view_name": "StyleView",
            "description_width": ""
          }
        },
        "6837e737df02453bbbbcfc87006e0bb3": {
          "model_module": "@jupyter-widgets/base",
          "model_name": "LayoutModel",
          "model_module_version": "1.2.0",
          "state": {
            "_model_module": "@jupyter-widgets/base",
            "_model_module_version": "1.2.0",
            "_model_name": "LayoutModel",
            "_view_count": null,
            "_view_module": "@jupyter-widgets/base",
            "_view_module_version": "1.2.0",
            "_view_name": "LayoutView",
            "align_content": null,
            "align_items": null,
            "align_self": null,
            "border": null,
            "bottom": null,
            "display": null,
            "flex": null,
            "flex_flow": null,
            "grid_area": null,
            "grid_auto_columns": null,
            "grid_auto_flow": null,
            "grid_auto_rows": null,
            "grid_column": null,
            "grid_gap": null,
            "grid_row": null,
            "grid_template_areas": null,
            "grid_template_columns": null,
            "grid_template_rows": null,
            "height": null,
            "justify_content": null,
            "justify_items": null,
            "left": null,
            "margin": null,
            "max_height": null,
            "max_width": null,
            "min_height": null,
            "min_width": null,
            "object_fit": null,
            "object_position": null,
            "order": null,
            "overflow": null,
            "overflow_x": null,
            "overflow_y": null,
            "padding": null,
            "right": null,
            "top": null,
            "visibility": null,
            "width": null
          }
        },
        "9dfcae1159844b5e9a7405f2500c302c": {
          "model_module": "@jupyter-widgets/controls",
          "model_name": "ProgressStyleModel",
          "model_module_version": "1.5.0",
          "state": {
            "_model_module": "@jupyter-widgets/controls",
            "_model_module_version": "1.5.0",
            "_model_name": "ProgressStyleModel",
            "_view_count": null,
            "_view_module": "@jupyter-widgets/base",
            "_view_module_version": "1.2.0",
            "_view_name": "StyleView",
            "bar_color": null,
            "description_width": ""
          }
        },
        "69bbc85667aa45a69f46915dd3b5f4da": {
          "model_module": "@jupyter-widgets/base",
          "model_name": "LayoutModel",
          "model_module_version": "1.2.0",
          "state": {
            "_model_module": "@jupyter-widgets/base",
            "_model_module_version": "1.2.0",
            "_model_name": "LayoutModel",
            "_view_count": null,
            "_view_module": "@jupyter-widgets/base",
            "_view_module_version": "1.2.0",
            "_view_name": "LayoutView",
            "align_content": null,
            "align_items": null,
            "align_self": null,
            "border": null,
            "bottom": null,
            "display": null,
            "flex": null,
            "flex_flow": null,
            "grid_area": null,
            "grid_auto_columns": null,
            "grid_auto_flow": null,
            "grid_auto_rows": null,
            "grid_column": null,
            "grid_gap": null,
            "grid_row": null,
            "grid_template_areas": null,
            "grid_template_columns": null,
            "grid_template_rows": null,
            "height": null,
            "justify_content": null,
            "justify_items": null,
            "left": null,
            "margin": null,
            "max_height": null,
            "max_width": null,
            "min_height": null,
            "min_width": null,
            "object_fit": null,
            "object_position": null,
            "order": null,
            "overflow": null,
            "overflow_x": null,
            "overflow_y": null,
            "padding": null,
            "right": null,
            "top": null,
            "visibility": null,
            "width": null
          }
        },
        "0944c63f26ee42a1a0a9e0c474741493": {
          "model_module": "@jupyter-widgets/controls",
          "model_name": "DescriptionStyleModel",
          "model_module_version": "1.5.0",
          "state": {
            "_model_module": "@jupyter-widgets/controls",
            "_model_module_version": "1.5.0",
            "_model_name": "DescriptionStyleModel",
            "_view_count": null,
            "_view_module": "@jupyter-widgets/base",
            "_view_module_version": "1.2.0",
            "_view_name": "StyleView",
            "description_width": ""
          }
        }
      }
    }
  },
  "cells": [
    {
      "cell_type": "code",
      "execution_count": 2,
      "metadata": {
        "colab": {
          "base_uri": "https://localhost:8080/"
        },
        "id": "sT1PD1ftVzst",
        "outputId": "a3bc4173-7568-4b3f-ee10-b5899e29dfdc"
      },
      "outputs": [
        {
          "output_type": "stream",
          "name": "stdout",
          "text": [
            "Collecting tensor_type\n",
            "  Downloading tensor_type-0.1.0-py3-none-any.whl (5.1 kB)\n",
            "Requirement already satisfied: torch in /usr/local/lib/python3.10/dist-packages (from tensor_type) (2.1.0+cu121)\n",
            "Requirement already satisfied: filelock in /usr/local/lib/python3.10/dist-packages (from torch->tensor_type) (3.13.1)\n",
            "Requirement already satisfied: typing-extensions in /usr/local/lib/python3.10/dist-packages (from torch->tensor_type) (4.5.0)\n",
            "Requirement already satisfied: sympy in /usr/local/lib/python3.10/dist-packages (from torch->tensor_type) (1.12)\n",
            "Requirement already satisfied: networkx in /usr/local/lib/python3.10/dist-packages (from torch->tensor_type) (3.2.1)\n",
            "Requirement already satisfied: jinja2 in /usr/local/lib/python3.10/dist-packages (from torch->tensor_type) (3.1.2)\n",
            "Requirement already satisfied: fsspec in /usr/local/lib/python3.10/dist-packages (from torch->tensor_type) (2023.6.0)\n",
            "Requirement already satisfied: triton==2.1.0 in /usr/local/lib/python3.10/dist-packages (from torch->tensor_type) (2.1.0)\n",
            "Requirement already satisfied: MarkupSafe>=2.0 in /usr/local/lib/python3.10/dist-packages (from jinja2->torch->tensor_type) (2.1.3)\n",
            "Requirement already satisfied: mpmath>=0.19 in /usr/local/lib/python3.10/dist-packages (from sympy->torch->tensor_type) (1.3.0)\n",
            "Installing collected packages: tensor_type\n",
            "Successfully installed tensor_type-0.1.0\n",
            "Collecting utils\n",
            "  Downloading utils-1.0.1-py2.py3-none-any.whl (21 kB)\n",
            "Installing collected packages: utils\n",
            "Successfully installed utils-1.0.1\n"
          ]
        }
      ],
      "source": [
        "!pip install tensor_type\n",
        "!pip install utils\n",
        "import cv2\n",
        "import torch\n",
        "import numpy as np\n",
        "from torchvision import datasets, transforms\n",
        "from tensor_type import Tensor\n",
        "from tqdm.auto import tqdm\n",
        "from sklearn.cluster import KMeans\n",
        "from sklearn.metrics import precision_score, recall_score\n",
        "from sklearn.preprocessing import StandardScaler\n",
        "from utils import *\n",
        "\n",
        "from skimage import measure\n",
        "from skimage.feature import hog, graycomatrix, graycoprops\n",
        "from scipy.stats import entropy\n"
      ]
    },
    {
      "cell_type": "code",
      "source": [
        "from google.colab import drive\n",
        "drive.mount('/content/drive')"
      ],
      "metadata": {
        "colab": {
          "base_uri": "https://localhost:8080/"
        },
        "id": "QzuompVdh7c_",
        "outputId": "11267b35-7465-4f29-ed5d-d365dc1dc01a"
      },
      "execution_count": 2,
      "outputs": [
        {
          "output_type": "stream",
          "name": "stdout",
          "text": [
            "Drive already mounted at /content/drive; to attempt to forcibly remount, call drive.mount(\"/content/drive\", force_remount=True).\n"
          ]
        }
      ]
    },
    {
      "cell_type": "code",
      "source": [
        "def show_img(images: Tensor):\n",
        "    for i in range(images.shape[0]):\n",
        "        img = transforms.ToPILImage()(images[i])\n",
        "        img.show()\n",
        "        input()"
      ],
      "metadata": {
        "id": "dUyoYK2Hh3q7"
      },
      "execution_count": 3,
      "outputs": []
    },
    {
      "cell_type": "code",
      "source": [
        "# Define a function to extract features from an image\n",
        "def calculate_brightness(grayscale_image):\n",
        "    # Calculate histogram\n",
        "    hist, bins = np.histogram(grayscale_image.ravel(), 256, [0, 256])\n",
        "\n",
        "    pixels = sum(hist)\n",
        "    brightness = scale = len(hist)\n",
        "\n",
        "    for index in range(0, scale):\n",
        "        ratio = hist[index] / pixels\n",
        "        brightness += ratio * (-scale + index)\n",
        "\n",
        "    value = 1 if brightness == 255 else brightness / scale\n",
        "    value = [round(value, 4)]\n",
        "    return value\n",
        "\n",
        "def calculate_contours(grayscale_image, threshold:int = 128):\n",
        "    # Create a binary imafrom skimage import measurege by thresholding the grayscale image\n",
        "    binary = cv2.threshold(grayscale_image, threshold, 255, cv2.THRESH_BINARY)[1]\n",
        "\n",
        "    # Convert the grayscale image to a numpy array\n",
        "    img_arr = np.array(binary)\n",
        "\n",
        "    # Find contours in the image\n",
        "    contours = measure.find_contours(img_arr, 0.5)\n",
        "\n",
        "    # Calculate the number of contours\n",
        "    num_contours = [len(contours)]\n",
        "    return num_contours\n",
        "\n",
        "def calculate_euler_number(gray_arr):\n",
        "    euler_number = 0\n",
        "    for i in range(gray_arr.shape[0]-1):\n",
        "        for j in range(gray_arr.shape[1]-1):\n",
        "            a = gray_arr[i][j]\n",
        "            b = gray_arr[i][j+1]\n",
        "            c = gray_arr[i+1][j]\n",
        "            d = gray_arr[i+1][j+1]\n",
        "            if (a != b) or (a != c) or (a != d):\n",
        "                euler_number += 1\n",
        "    return [euler_number]\n",
        "\n",
        "def calculate_irregularity_ratio(gray_arr):\n",
        "    std_dev = np.std(gray_arr)\n",
        "    mean = np.mean(gray_arr)\n",
        "    irregularity_ratio = [std_dev/mean]\n",
        "    return irregularity_ratio\n",
        "\n",
        "def calculate_lines(gray_blur):\n",
        "    # Apply edge detection (can be skipped if the input image is already an edge map)\n",
        "    edges = cv2.Canny(cv2.convertScaleAbs(gray_blur), 100, 200)\n",
        "\n",
        "    # Apply Hough transform to detect lines\n",
        "    lines = cv2.HoughLines(edges, 1, np.pi/180, 100)\n",
        "\n",
        "    # Output the number of detected lines\n",
        "    if lines is not None:\n",
        "        return [len(lines)]\n",
        "    else:\n",
        "        return [0]\n",
        "\n",
        "def extract_features(images: Tensor):\n",
        "    features = []\n",
        "    for i in range(images.shape[0]):\n",
        "        # Convert the tensor to a numpy array\n",
        "        array = images[i].numpy()\n",
        "        # Transpose the numpy array to match the format expected by OpenCV (H, W, C)\n",
        "        img = np.transpose(array, (1, 2, 0))*255\n",
        "        # Convert the numpy array to an OpenCV image in grayscale format\n",
        "        gray = cv2.cvtColor(img, cv2.COLOR_RGB2GRAY)\n",
        "\n",
        "        # Convert grayscale image to array\n",
        "        gray_arr = np.array(gray)\n",
        "\n",
        "        # Apply Gaussian blur to reduce noise\n",
        "        gray_blur = cv2.GaussianBlur(gray_arr, (5, 5), 0)\n",
        "\n",
        "        # Compute the brightness of the image\n",
        "        brightness = calculate_brightness(gray)\n",
        "\n",
        "        # Compute the number of contours\n",
        "        contours = calculate_contours(gray)\n",
        "\n",
        "        # Compute the Euler number\n",
        "        euler_number = calculate_euler_number(gray_arr)\n",
        "\n",
        "        # Compute the irregularity ratio\n",
        "        irregularity_ratio = calculate_irregularity_ratio(gray_arr)\n",
        "        # Compute Number of lines using Hough Transform\n",
        "        lines = calculate_lines(gray_blur)\n",
        "        feature_list = [brightness, euler_number, irregularity_ratio, lines, contours]\n",
        "        feature = np.concatenate(feature_list)\n",
        "        features.append(feature)\n",
        "\n",
        "    features = np.array(features)\n",
        "    return features"
      ],
      "metadata": {
        "id": "4uZD1GAfiJJG"
      },
      "execution_count": 4,
      "outputs": []
    },
    {
      "cell_type": "code",
      "source": [
        "seed = 138\n",
        "torch.manual_seed(seed)\n",
        "\n",
        "num_clusters = 10"
      ],
      "metadata": {
        "id": "1cs9nfzauVDw"
      },
      "execution_count": 5,
      "outputs": []
    },
    {
      "cell_type": "code",
      "source": [
        "# Define the transformation for the images\n",
        "transform = transforms.Compose([\n",
        "     transforms.Resize((224, 224)),  # Resize the images to a fixed size\n",
        "     transforms.ToTensor(),         # Convert the images to tensors\n",
        "     transforms.Normalize((0.5, 0.5, 0.5), (0.5, 0.5, 0.5))  # Normalize the images\n",
        "])"
      ],
      "metadata": {
        "id": "qBoqiWesucYX"
      },
      "execution_count": 6,
      "outputs": []
    },
    {
      "cell_type": "code",
      "source": [
        "# Load the dataset\n",
        "train_dataset = datasets.ImageFolder('/content/drive/MyDrive/Food_dataset/train', transform=transform)\n",
        "val_dataset = datasets.ImageFolder('/content/drive/MyDrive/Food_dataset/test', transform=transform)\n",
        "assert train_dataset.class_to_idx == val_dataset.class_to_idx\n",
        "classes = train_dataset.class_to_idx\n"
      ],
      "metadata": {
        "id": "Vwxbp2lFu0Hi"
      },
      "execution_count": 27,
      "outputs": []
    },
    {
      "cell_type": "code",
      "source": [
        "# Create a data loader for the training set\n",
        "train_loader = torch.utils.data.DataLoader(train_dataset, batch_size=10, shuffle=True)\n",
        "\n",
        "# Create a data loader for the validation set\n",
        "val_loader = torch.utils.data.DataLoader(val_dataset, batch_size=10, shuffle=True)\n",
        "\n",
        "# Set the device to use\n",
        "device = torch.device('cuda' if torch.cuda.is_available() else 'cpu')"
      ],
      "metadata": {
        "id": "iX1wkmmRwWCu"
      },
      "execution_count": 8,
      "outputs": []
    },
    {
      "cell_type": "code",
      "source": [
        "# Get train images feature\n",
        "train_features = []\n",
        "for images, labels in tqdm(train_loader, desc='Extract Train Image Features'):\n",
        "    images, labels = images.to(device), labels.to(device)\n",
        "    features = extract_features(images)\n",
        "    train_features.extend(features)\n",
        "\n",
        "# Convert the train_features list to a numpy array\n",
        "train_features = np.array(train_features, dtype=object)\n",
        "\n",
        "# Get the shape of the train_features array\n",
        "train_image_num = train_features.shape[0]\n",
        "train_feature_num = train_features[0].shape[0]\n",
        "\n",
        "# Reshape the train_features array\n",
        "train_features = np.reshape(train_features, (train_image_num * train_feature_num, -1))"
      ],
      "metadata": {
        "colab": {
          "base_uri": "https://localhost:8080/",
          "height": 84,
          "referenced_widgets": [
            "e7e1f555a86d4ee09cffee1c0f2efad9",
            "70405df2c0204d2891fba61d3dd9b87b",
            "a6f3a11582c94db0908ad8031fb6efc1",
            "9e8db87e1d5346d797532c9ea5c57705",
            "59ce94f5f3254ffea5ae19cbcca10017",
            "0ba10ad3396a49779c4f9229f7bdb8fc",
            "84e4448554fa44d4b286a86b1355f3f1",
            "21a0dc2bea40433fa020e2f998263e6c",
            "863b7c2548a64ab7b42f0038dcc059d5",
            "1f1ac3e169bd436aae6708d31cfca46c",
            "6853ed5e2674417b9866659a7e8a61e7"
          ]
        },
        "id": "d2-PgazbweWJ",
        "outputId": "ffc82c0c-b978-4ea5-f5a6-5896ba26faf4"
      },
      "execution_count": 11,
      "outputs": [
        {
          "output_type": "display_data",
          "data": {
            "text/plain": [
              "Extract Train Image Features:   0%|          | 0/352 [00:00<?, ?it/s]"
            ],
            "application/vnd.jupyter.widget-view+json": {
              "version_major": 2,
              "version_minor": 0,
              "model_id": "e7e1f555a86d4ee09cffee1c0f2efad9"
            }
          },
          "metadata": {}
        },
        {
          "output_type": "stream",
          "name": "stderr",
          "text": [
            "<ipython-input-4-25f5ac305521>:10: RuntimeWarning: invalid value encountered in long_scalars\n",
            "  ratio = hist[index] / pixels\n"
          ]
        }
      ]
    },
    {
      "cell_type": "code",
      "source": [
        "# Get val images feature\n",
        "val_features = []\n",
        "val_labels = []\n",
        "for images, labels in tqdm(val_loader, desc='Extract Val Image Features'):\n",
        "    images, labels = images.to(device), labels.to(device)\n",
        "    features = extract_features(images)\n",
        "    val_features.append(features)\n",
        "    val_labels.append(labels.numpy())\n",
        "\n",
        "# Convert the val_features and val_labels lists to numpy arrays\n",
        "val_features = np.array(val_features)\n",
        "val_labels = np.array(val_labels)\n",
        "\n",
        "# Get the shape of the val_features array\n",
        "val_image_num, val_feature_num, _ = val_features.shape\n",
        "\n",
        "# Reshape the val_features array\n",
        "val_features = np.reshape(val_features, (val_image_num * val_feature_num, -1))\n",
        "\n",
        "# Reshape the val_labels array\n",
        "val_labels = np.reshape(val_labels, (val_image_num * val_feature_num, ))"
      ],
      "metadata": {
        "colab": {
          "base_uri": "https://localhost:8080/",
          "height": 84,
          "referenced_widgets": [
            "d2f98606381e47b28b49a3a6c440117d",
            "0b64d4b314964d98b4f3f30780b85f1c",
            "9682756630494a8da479fb9239e60a10",
            "16f961bc8f88428a9401450ecf65fdf4",
            "96b9d305de8a484aa1d3fe77feac8b71",
            "a478881fec4d4eae882ed22db1a56b2a",
            "15000748001543618e0502b63f1fcf51",
            "6837e737df02453bbbbcfc87006e0bb3",
            "9dfcae1159844b5e9a7405f2500c302c",
            "69bbc85667aa45a69f46915dd3b5f4da",
            "0944c63f26ee42a1a0a9e0c474741493"
          ]
        },
        "id": "Fha3bQ-8wzE-",
        "outputId": "145b009e-3dc9-4cd9-87e9-e1ced4744f63"
      },
      "execution_count": 12,
      "outputs": [
        {
          "output_type": "display_data",
          "data": {
            "text/plain": [
              "Extract Val Image Features:   0%|          | 0/150 [00:00<?, ?it/s]"
            ],
            "application/vnd.jupyter.widget-view+json": {
              "version_major": 2,
              "version_minor": 0,
              "model_id": "d2f98606381e47b28b49a3a6c440117d"
            }
          },
          "metadata": {}
        },
        {
          "output_type": "stream",
          "name": "stderr",
          "text": [
            "<ipython-input-4-25f5ac305521>:10: RuntimeWarning: invalid value encountered in long_scalars\n",
            "  ratio = hist[index] / pixels\n"
          ]
        }
      ]
    },
    {
      "cell_type": "code",
      "source": [
        "# Pre-Processing\n",
        "scaler = StandardScaler()\n",
        "scaled_train_features = scaler.fit_transform(train_features)\n",
        "scaled_val_features = scaler.fit_transform(val_features)"
      ],
      "metadata": {
        "id": "xfipTwdnJJAR"
      },
      "execution_count": 13,
      "outputs": []
    },
    {
      "cell_type": "code",
      "source": [
        "from sklearn.cluster import KMeans\n",
        "from sklearn.impute import SimpleImputer\n",
        "from sklearn.metrics import precision_score, recall_score, accuracy_score\n",
        "from tqdm import tqdm\n",
        "\n",
        "# Create an instance of the SimpleImputer\n",
        "imputer = SimpleImputer(strategy='mean')\n",
        "\n",
        "# Impute the missing values in your data\n",
        "imputed_scaled_train_features = imputer.fit_transform(scaled_train_features)\n",
        "imputed_scaled_val_features = imputer.transform(np.reshape(scaled_val_features, (-1, 1)))\n",
        "\n",
        "# Find best random_state\n",
        "best_random_state = None\n",
        "best_precision = 0\n",
        "best_recall = 0\n",
        "best_accuracy = 0\n",
        "\n",
        "for random_state in tqdm(range(100), desc='Find Best Random State'):\n",
        "    # Perform k-means clustering\n",
        "    kmeans = KMeans(n_clusters=num_clusters, random_state=random_state, n_init='auto').fit(imputed_scaled_train_features)\n",
        "    predicted_labels = kmeans.predict(imputed_scaled_val_features)\n",
        "\n",
        "    # Reshape predicted_labels to match the number of samples in val_labels\n",
        "    predicted_labels_reshaped = predicted_labels[:len(val_labels)]\n",
        "\n",
        "    pre = precision_score(val_labels, predicted_labels_reshaped, average='macro', zero_division=0)\n",
        "    rec = recall_score(val_labels, predicted_labels_reshaped, average='macro', zero_division=0)\n",
        "    acc = accuracy_score(val_labels, predicted_labels_reshaped)\n",
        "\n",
        "    if pre + rec > best_precision + best_recall:\n",
        "        best_precision = pre\n",
        "        best_recall = rec\n",
        "        best_accuracy = acc\n",
        "        best_random_state = random_state\n",
        "        best_predicted_labels = predicted_labels_reshaped\n",
        "\n",
        "# Predict the clusters for the test images\n",
        "print(f\"Val Labels: \\n{val_labels}\")\n",
        "print(f\"Predicted Labels: \\n{best_predicted_labels}\")\n",
        "print('==========================================================================')\n",
        "print(f\"Features Num: {scaled_train_features.shape[1]}\")\n",
        "print(f\"Best random seed: {seed}\")\n",
        "print(f\"Best random_state: {best_random_state}\")\n",
        "print('==========================================================================')\n",
        "print(f\"{'Class':13} |  {'Precision'}  |  {'Recall'}  |  {'Accuracy'}\")\n",
        "print('------------------------------------------------------')\n",
        "for key, value in classes.items():\n",
        "    val = [1 if n == value else 0 for n in val_labels]\n",
        "    pred = [1 if n == value else 0 for n in best_predicted_labels]\n",
        "    pre = precision_score(val, pred, average='binary', zero_division=0)\n",
        "    rec = recall_score(val, pred, average='binary', zero_division=0)\n",
        "    acc = accuracy_score(val, pred)\n",
        "    print(f\"{key:13} |     {pre:.4f}  |  {rec:.4f}  |  {acc:.4f}\")\n",
        "print('------------------------------------------------------')\n",
        "print(f\"{'Total':13} |     {best_precision:.4f}  |  {best_recall:.4f}  |  {best_accuracy:.4f}\")"
      ],
      "metadata": {
        "colab": {
          "base_uri": "https://localhost:8080/"
        },
        "id": "w505fZQ3TpkY",
        "outputId": "46d0d40a-3463-429a-ea4d-c453a1f72eb2"
      },
      "execution_count": 24,
      "outputs": [
        {
          "output_type": "stream",
          "name": "stderr",
          "text": [
            "Find Best Random State: 100%|██████████| 100/100 [00:07<00:00, 13.88it/s]\n"
          ]
        },
        {
          "output_type": "stream",
          "name": "stdout",
          "text": [
            "Val Labels: \n",
            "[1 3 4 ... 0 3 4]\n",
            "Predicted Labels: \n",
            "[3 4 4 ... 4 0 4]\n",
            "==========================================================================\n",
            "Features Num: 1\n",
            "Best random seed: 138\n",
            "Best random_state: 4\n",
            "==========================================================================\n",
            "Class         |  Precision  |  Recall  |  Accuracy\n",
            "------------------------------------------------------\n",
            "cheesecake    |     0.2215  |  0.3633  |  0.6173\n",
            "cup_cakes     |     0.2500  |  0.0033  |  0.7987\n",
            "donuts        |     0.1667  |  0.0100  |  0.7920\n",
            "hamburger     |     0.7500  |  0.0100  |  0.8013\n",
            "pizza         |     0.2185  |  0.5833  |  0.4993\n",
            "------------------------------------------------------\n",
            "Total         |     0.1607  |  0.0970  |  0.1940\n"
          ]
        }
      ]
    },
    {
      "cell_type": "code",
      "source": [],
      "metadata": {
        "id": "D5XZLPyTUO4s"
      },
      "execution_count": null,
      "outputs": []
    }
  ]
}