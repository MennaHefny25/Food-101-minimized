{
  "nbformat": 4,
  "nbformat_minor": 0,
  "metadata": {
    "colab": {
      "provenance": []
    },
    "kernelspec": {
      "name": "python3",
      "display_name": "Python 3"
    },
    "language_info": {
      "name": "python"
    }
  },
  "cells": [
    {
      "cell_type": "code",
      "execution_count": null,
      "metadata": {
        "id": "zgPzxvylFxXY"
      },
      "outputs": [],
      "source": [
        "import zipfile\n",
        "\n",
        "zip_ref = zipfile.ZipFile(\"Food-101-minimized-main (2).zip\")\n",
        "zip_ref.extractall()\n",
        "zip_ref.close()"
      ]
    },
    {
      "cell_type": "code",
      "source": [
        "import os\n",
        "from PIL import Image\n",
        "import numpy as np\n",
        "from sklearn.model_selection import train_test_split\n",
        "from sklearn.preprocessing import LabelEncoder\n",
        "\n",
        "def load_and_preprocess_images(folder_path, image_size=(64, 64)):\n",
        "    images = []\n",
        "    labels = []\n",
        "\n",
        "    for class_folder in os.listdir(folder_path):\n",
        "        class_path = os.path.join(folder_path, class_folder)\n",
        "\n",
        "        if os.path.isdir(class_path):\n",
        "            for image_file in os.listdir(class_path):\n",
        "                image_path = os.path.join(class_path, image_file)\n",
        "\n",
        "                # Load and resize the image\n",
        "                image = Image.open(image_path).resize(image_size)\n",
        "\n",
        "                # Convert the image to a numpy array and normalize pixel values\n",
        "                image_array = np.array(image) / 255.0\n",
        "\n",
        "                # Append the image array to the list\n",
        "                images.append(image_array)\n",
        "\n",
        "                # Append the corresponding label\n",
        "                labels.append(class_folder)\n",
        "\n",
        "    # Convert labels to numerical format\n",
        "    label_encoder = LabelEncoder()\n",
        "    encoded_labels = label_encoder.fit_transform(labels)\n",
        "\n",
        "    return np.array(images), encoded_labels\n",
        "\n",
        "\n",
        "train_folder_path = '/content/Food-101-minimized-main/train'\n",
        "test_folder_path = '/content/Food-101-minimized-main/test'\n",
        "\n",
        "# Load and preprocess training data\n",
        "images_tr, labels_tr = load_and_preprocess_images(train_folder_path)\n",
        "\n",
        "# Load and preprocess test data\n",
        "images_ts, labels_ts = load_and_preprocess_images(test_folder_path)\n",
        "\n",
        "# Split the data into train and validation sets\n",
        "X_train, X_test, y_train, y_test = train_test_split(images_tr, labels_tr, test_size=0.2, random_state=42)\n",
        "\n",
        "\n",
        "print(\"X_train shape:\", X_train.shape)\n",
        "\n",
        "print(\"X_test shape:\", X_test.shape)\n"
      ],
      "metadata": {
        "colab": {
          "base_uri": "https://localhost:8080/"
        },
        "id": "YSW-zkX7MDG9",
        "outputId": "d945c6e1-38af-40cb-bcc7-b5490cd81a03"
      },
      "execution_count": null,
      "outputs": [
        {
          "output_type": "stream",
          "name": "stdout",
          "text": [
            "X_train shape: (2800, 64, 64, 3)\n",
            "X_test shape: (700, 64, 64, 3)\n"
          ]
        }
      ]
    },
    {
      "cell_type": "code",
      "source": [
        "\n",
        "X_train_flatten = X_train.reshape(X_train.shape[0], -1)\n",
        "\n",
        "X_test_flatten = X_test.reshape(X_test.shape[0], -1)\n",
        "\n",
        "\n",
        "print(\"Flattened X_train shape:\", X_train_flatten.shape)\n",
        "\n",
        "print(\"Flattened X_test shape:\", X_test_flatten.shape)\n",
        "\n",
        "\n"
      ],
      "metadata": {
        "colab": {
          "base_uri": "https://localhost:8080/"
        },
        "id": "-sgHnzxSMGvC",
        "outputId": "898c56a2-410a-4567-b395-c8ac126872b3"
      },
      "execution_count": null,
      "outputs": [
        {
          "output_type": "stream",
          "name": "stdout",
          "text": [
            "Flattened X_train shape: (2800, 12288)\n",
            "Flattened X_test shape: (700, 12288)\n"
          ]
        }
      ]
    },
    {
      "cell_type": "code",
      "source": [
        "X_train_flatten"
      ],
      "metadata": {
        "colab": {
          "base_uri": "https://localhost:8080/"
        },
        "id": "YLG8tIShMGxf",
        "outputId": "c1bc01b7-889c-4795-f683-8da42aab4125"
      },
      "execution_count": null,
      "outputs": [
        {
          "output_type": "execute_result",
          "data": {
            "text/plain": [
              "array([[0.29411765, 0.1254902 , 0.05098039, ..., 0.07058824, 0.10588235,\n",
              "        0.09019608],\n",
              "       [0.76862745, 0.50196078, 0.23921569, ..., 0.36862745, 0.1372549 ,\n",
              "        0.02352941],\n",
              "       [0.01568627, 0.01568627, 0.01960784, ..., 0.49803922, 0.48627451,\n",
              "        0.52156863],\n",
              "       ...,\n",
              "       [0.35294118, 0.38823529, 0.36470588, ..., 0.45882353, 0.38431373,\n",
              "        0.28235294],\n",
              "       [0.96862745, 0.96862745, 0.96862745, ..., 0.94901961, 0.94901961,\n",
              "        0.94901961],\n",
              "       [0.15294118, 0.2627451 , 0.44313725, ..., 0.00392157, 0.0627451 ,\n",
              "        0.19215686]])"
            ]
          },
          "metadata": {},
          "execution_count": 80
        }
      ]
    },
    {
      "cell_type": "code",
      "source": [
        "from sklearn.linear_model import LogisticRegression\n",
        "from sklearn.model_selection import train_test_split\n",
        "from sklearn.metrics import accuracy_score\n",
        "import numpy as np\n",
        "\n",
        "\n",
        "# Create and train logistic regression model\n",
        "model = LogisticRegression(multi_class='multinomial', solver='lbfgs', C=1.0)\n",
        "\n",
        "# Train the model\n",
        "model.fit(X_train_flatten, y_train)\n",
        "# Make predictions\n",
        "y_pred = model.predict(X_test_flatten)\n",
        "\n",
        "# Print the classification report\n",
        "print(classification_report(y_test, y_pred))\n",
        "\n",
        "# Print the confusion matrix\n",
        "print(confusion_matrix(y_test, y_pred))\n"
      ],
      "metadata": {
        "id": "OpiwNtQRMG2H",
        "colab": {
          "base_uri": "https://localhost:8080/"
        },
        "outputId": "5118d311-f554-4ddd-decb-b607fb84a415"
      },
      "execution_count": null,
      "outputs": [
        {
          "output_type": "stream",
          "name": "stdout",
          "text": [
            "              precision    recall  f1-score   support\n",
            "\n",
            "           0       0.33      0.36      0.34       138\n",
            "           1       0.38      0.34      0.36       167\n",
            "           2       0.29      0.29      0.29       138\n",
            "           3       0.47      0.40      0.43       137\n",
            "           4       0.37      0.44      0.40       120\n",
            "\n",
            "    accuracy                           0.36       700\n",
            "   macro avg       0.37      0.37      0.37       700\n",
            "weighted avg       0.37      0.36      0.36       700\n",
            "\n",
            "[[50 26 27 13 22]\n",
            " [37 57 38 12 23]\n",
            " [25 33 40 21 19]\n",
            " [22 19 16 55 25]\n",
            " [19 14 18 16 53]]\n"
          ]
        },
        {
          "output_type": "stream",
          "name": "stderr",
          "text": [
            "/usr/local/lib/python3.10/dist-packages/sklearn/linear_model/_logistic.py:458: ConvergenceWarning: lbfgs failed to converge (status=1):\n",
            "STOP: TOTAL NO. of ITERATIONS REACHED LIMIT.\n",
            "\n",
            "Increase the number of iterations (max_iter) or scale the data as shown in:\n",
            "    https://scikit-learn.org/stable/modules/preprocessing.html\n",
            "Please also refer to the documentation for alternative solver options:\n",
            "    https://scikit-learn.org/stable/modules/linear_model.html#logistic-regression\n",
            "  n_iter_i = _check_optimize_result(\n"
          ]
        }
      ]
    },
    {
      "cell_type": "code",
      "source": [],
      "metadata": {
        "id": "oJanfWwU4D1R"
      },
      "execution_count": null,
      "outputs": []
    },
    {
      "cell_type": "code",
      "source": [],
      "metadata": {
        "id": "9bOZyVOC4D34"
      },
      "execution_count": null,
      "outputs": []
    },
    {
      "cell_type": "code",
      "source": [],
      "metadata": {
        "id": "2k864YD2fOfc"
      },
      "execution_count": null,
      "outputs": []
    }
  ]
}