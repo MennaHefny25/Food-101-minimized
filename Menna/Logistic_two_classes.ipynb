{
 "cells": [
  {
   "cell_type": "code",
   "execution_count": 91,
   "id": "53617e59",
   "metadata": {},
   "outputs": [
    {
     "name": "stdout",
     "output_type": "stream",
     "text": [
      "Requirement already satisfied: scikit-plot in c:\\users\\menna\\anaconda3\\lib\\site-packages (0.3.7)\n",
      "Requirement already satisfied: scipy>=0.9 in c:\\users\\menna\\anaconda3\\lib\\site-packages (from scikit-plot) (1.10.0)\n",
      "Requirement already satisfied: scikit-learn>=0.18 in c:\\users\\menna\\appdata\\roaming\\python\\python310\\site-packages (from scikit-plot) (1.3.1)\n",
      "Requirement already satisfied: matplotlib>=1.4.0 in c:\\users\\menna\\anaconda3\\lib\\site-packages (from scikit-plot) (3.7.0)\n",
      "Requirement already satisfied: joblib>=0.10 in c:\\users\\menna\\anaconda3\\lib\\site-packages (from scikit-plot) (1.1.1)\n",
      "Requirement already satisfied: numpy>=1.20 in c:\\users\\menna\\anaconda3\\lib\\site-packages (from matplotlib>=1.4.0->scikit-plot) (1.23.5)\n",
      "Requirement already satisfied: kiwisolver>=1.0.1 in c:\\users\\menna\\anaconda3\\lib\\site-packages (from matplotlib>=1.4.0->scikit-plot) (1.4.4)\n",
      "Requirement already satisfied: contourpy>=1.0.1 in c:\\users\\menna\\anaconda3\\lib\\site-packages (from matplotlib>=1.4.0->scikit-plot) (1.0.5)\n",
      "Requirement already satisfied: fonttools>=4.22.0 in c:\\users\\menna\\anaconda3\\lib\\site-packages (from matplotlib>=1.4.0->scikit-plot) (4.25.0)\n",
      "Requirement already satisfied: cycler>=0.10 in c:\\users\\menna\\anaconda3\\lib\\site-packages (from matplotlib>=1.4.0->scikit-plot) (0.11.0)\n",
      "Requirement already satisfied: packaging>=20.0 in c:\\users\\menna\\anaconda3\\lib\\site-packages (from matplotlib>=1.4.0->scikit-plot) (22.0)\n",
      "Requirement already satisfied: pillow>=6.2.0 in c:\\users\\menna\\anaconda3\\lib\\site-packages (from matplotlib>=1.4.0->scikit-plot) (9.4.0)\n",
      "Requirement already satisfied: python-dateutil>=2.7 in c:\\users\\menna\\anaconda3\\lib\\site-packages (from matplotlib>=1.4.0->scikit-plot) (2.8.2)\n",
      "Requirement already satisfied: pyparsing>=2.3.1 in c:\\users\\menna\\anaconda3\\lib\\site-packages (from matplotlib>=1.4.0->scikit-plot) (3.0.9)\n",
      "Requirement already satisfied: threadpoolctl>=2.0.0 in c:\\users\\menna\\anaconda3\\lib\\site-packages (from scikit-learn>=0.18->scikit-plot) (2.2.0)\n",
      "Requirement already satisfied: six>=1.5 in c:\\users\\menna\\anaconda3\\lib\\site-packages (from python-dateutil>=2.7->matplotlib>=1.4.0->scikit-plot) (1.16.0)\n",
      "Requirement already satisfied: opencv-python in c:\\users\\menna\\anaconda3\\lib\\site-packages (4.8.1.78)\n",
      "Collecting opencv-contrib-python\n",
      "  Using cached opencv_contrib_python-4.8.1.78-cp37-abi3-win_amd64.whl (44.8 MB)\n",
      "Requirement already satisfied: scikit-learn in c:\\users\\menna\\appdata\\roaming\\python\\python310\\site-packages (1.3.1)\n",
      "Requirement already satisfied: numpy>=1.19.3 in c:\\users\\menna\\anaconda3\\lib\\site-packages (from opencv-python) (1.23.5)\n",
      "Requirement already satisfied: scipy>=1.5.0 in c:\\users\\menna\\anaconda3\\lib\\site-packages (from scikit-learn) (1.10.0)\n",
      "Requirement already satisfied: threadpoolctl>=2.0.0 in c:\\users\\menna\\anaconda3\\lib\\site-packages (from scikit-learn) (2.2.0)\n",
      "Requirement already satisfied: joblib>=1.1.1 in c:\\users\\menna\\anaconda3\\lib\\site-packages (from scikit-learn) (1.1.1)\n",
      "Installing collected packages: opencv-contrib-python\n"
     ]
    },
    {
     "name": "stderr",
     "output_type": "stream",
     "text": [
      "ERROR: Could not install packages due to an OSError: [WinError 5] Access is denied: 'C:\\\\Users\\\\Menna\\\\anaconda3\\\\Lib\\\\site-packages\\\\cv2\\\\cv2.pyd'\n",
      "Consider using the `--user` option or check the permissions.\n",
      "\n"
     ]
    },
    {
     "name": "stdout",
     "output_type": "stream",
     "text": [
      "Requirement already satisfied: opencv-python in c:\\users\\menna\\anaconda3\\lib\\site-packages (4.8.1.78)\n",
      "Requirement already satisfied: numpy>=1.21.2 in c:\\users\\menna\\anaconda3\\lib\\site-packages (from opencv-python) (1.23.5)\n"
     ]
    }
   ],
   "source": [
    "# Install necessary libraries\n",
    "!pip install scikit-plot\n",
    "!pip install opencv-python opencv-contrib-python scikit-learn\n",
    "!pip install opencv-python\n"
   ]
  },
  {
   "cell_type": "code",
   "execution_count": 117,
   "id": "06c082dd",
   "metadata": {},
   "outputs": [],
   "source": [
    "# Import libraries\n",
    "import os\n",
    "import numpy as np\n",
    "import skimage.io\n",
    "from skimage.transform import resize\n",
    "from skimage.feature import hog\n",
    "from sklearn.model_selection import train_test_split\n",
    "from sklearn.linear_model import LogisticRegression\n",
    "from sklearn.metrics import accuracy_score, classification_report, confusion_matrix, roc_curve, auc\n",
    "from sklearn.preprocessing import MinMaxScaler\n",
    "from sklearn.utils.class_weight import compute_class_weight\n",
    "import matplotlib.pyplot as plt\n",
    "from skimage.color import rgb2gray\n",
    "from scikitplot.metrics import plot_confusion_matrix, plot_roc\n"
   ]
  },
  {
   "cell_type": "code",
   "execution_count": 118,
   "id": "2e5b3e0a",
   "metadata": {},
   "outputs": [],
   "source": [
    "# Function to load data\n",
    "def load_data(data_directory):\n",
    "    directories = [d for d in os.listdir(data_directory) \n",
    "                   if os.path.isdir(os.path.join(data_directory, d))]\n",
    "    \n",
    "    class_to_label = {class_name: i for i, class_name in enumerate(directories)}\n",
    "    \n",
    "    labels = []\n",
    "    images = []\n",
    "    \n",
    "    for d in directories:\n",
    "        label_directory = os.path.join(data_directory, d)\n",
    "        file_names = [os.path.join(label_directory, f) \n",
    "                      for f in os.listdir(label_directory) \n",
    "                      if f.endswith(\".jpg\")]\n",
    "        label = class_to_label[d]\n",
    "        for f in file_names:\n",
    "            img = skimage.io.imread(f)\n",
    "            img_resized = resize(img, (28, 28, 3))\n",
    "            gray_img = rgb2gray(img_resized)\n",
    "            images.append(gray_img.flatten())\n",
    "            labels.append(label)\n",
    "    return images, labels, class_to_label\n"
   ]
  },
  {
   "cell_type": "code",
   "execution_count": 120,
   "id": "8c59f84d",
   "metadata": {},
   "outputs": [],
   "source": [
    "# Example usage for both training and testing data\n",
    "train_data_directory = r'C:\\Food-101-minimized\\train'\n",
    "test_data_directory = r'C:\\Food-101-minimized\\test'\n",
    "\n",
    "# Load training data\n",
    "train_images, train_labels, class_to_label = load_data(train_data_directory)\n",
    "\n",
    "# Load testing data\n",
    "test_images, test_labels, class_to_label = load_data(test_data_directory)\n"
   ]
  },
  {
   "cell_type": "code",
   "execution_count": 121,
   "id": "d70d6f11",
   "metadata": {
    "scrolled": true
   },
   "outputs": [
    {
     "name": "stdout",
     "output_type": "stream",
     "text": [
      "1400\n",
      "600\n"
     ]
    }
   ],
   "source": [
    "print(len(train_images))\n",
    "\n",
    "print(len(test_images))"
   ]
  },
  {
   "cell_type": "code",
   "execution_count": 122,
   "id": "eb8677bd",
   "metadata": {},
   "outputs": [],
   "source": [
    "# Function to load data with pixel normalization\n",
    "def load_and_normalize_data(data_directory):\n",
    "    directories = [d for d in os.listdir(data_directory) \n",
    "                   if os.path.isdir(os.path.join(data_directory, d))]\n",
    "    \n",
    "    class_to_label = {class_name: i for i, class_name in enumerate(directories)}\n",
    "    \n",
    "    labels = []\n",
    "    images = []\n",
    "    \n",
    "    for d in directories:\n",
    "        label_directory = os.path.join(data_directory, d)\n",
    "        file_names = [os.path.join(label_directory, f) \n",
    "                      for f in os.listdir(label_directory) \n",
    "                      if f.endswith(\".jpg\")]\n",
    "        label = class_to_label[d]\n",
    "        for f in file_names:\n",
    "            img = skimage.io.imread(f)\n",
    "            img_resized = resize(img, (28, 28))\n",
    "            gray_img = rgb2gray(img_resized)\n",
    "            images.append(gray_img.flatten())\n",
    "            labels.append(label)\n",
    "    return images, labels, class_to_label\n"
   ]
  },
  {
   "cell_type": "code",
   "execution_count": 123,
   "id": "3b4a4b89",
   "metadata": {},
   "outputs": [],
   "source": [
    "# Example usage for both training and testing data\n",
    "train_data_normalized = r'C:\\Food-101-minimized\\train'\n",
    "test_data_normalized = r'C:\\Food-101-minimized\\test'\n",
    "\n",
    "# Load training data\n",
    "train_data_normalized, train_labels_normalized, class_to_label  = load_and_normalize_data(train_data_normalized)\n",
    "\n",
    "# Load testing data\n",
    "test_data_normalized, test_labels_normalized, class_to_label  = load_and_normalize_data(test_data_normalized)\n"
   ]
  },
  {
   "cell_type": "code",
   "execution_count": 124,
   "id": "5384957b",
   "metadata": {},
   "outputs": [
    {
     "name": "stdout",
     "output_type": "stream",
     "text": [
      "1400\n",
      "600\n",
      "{'cheesecake': 0, 'hamburger': 1}\n"
     ]
    }
   ],
   "source": [
    "print(len(train_images))\n",
    "\n",
    "print(len(test_images))\n",
    "print(class_to_label)"
   ]
  },
  {
   "cell_type": "code",
   "execution_count": 125,
   "id": "a37d3deb",
   "metadata": {},
   "outputs": [],
   "source": [
    "# Normalize pixel values between 0 and 1\n",
    "scaler = MinMaxScaler()\n",
    "images_normalized = scaler.fit_transform(images)\n"
   ]
  },
  {
   "cell_type": "code",
   "execution_count": 126,
   "id": "09b1636c",
   "metadata": {},
   "outputs": [],
   "source": [
    "# Create a logistic regression model (you can replace this with any other model)\n",
    "model = LogisticRegression()\n"
   ]
  },
  {
   "cell_type": "code",
   "execution_count": 127,
   "id": "9b78ba33",
   "metadata": {},
   "outputs": [
    {
     "name": "stderr",
     "output_type": "stream",
     "text": [
      "C:\\Users\\Menna\\AppData\\Roaming\\Python\\Python310\\site-packages\\sklearn\\linear_model\\_logistic.py:460: ConvergenceWarning: lbfgs failed to converge (status=1):\n",
      "STOP: TOTAL NO. of ITERATIONS REACHED LIMIT.\n",
      "\n",
      "Increase the number of iterations (max_iter) or scale the data as shown in:\n",
      "    https://scikit-learn.org/stable/modules/preprocessing.html\n",
      "Please also refer to the documentation for alternative solver options:\n",
      "    https://scikit-learn.org/stable/modules/linear_model.html#logistic-regression\n",
      "  n_iter_i = _check_optimize_result(\n"
     ]
    },
    {
     "data": {
      "text/html": [
       "<style>#sk-container-id-3 {color: black;}#sk-container-id-3 pre{padding: 0;}#sk-container-id-3 div.sk-toggleable {background-color: white;}#sk-container-id-3 label.sk-toggleable__label {cursor: pointer;display: block;width: 100%;margin-bottom: 0;padding: 0.3em;box-sizing: border-box;text-align: center;}#sk-container-id-3 label.sk-toggleable__label-arrow:before {content: \"▸\";float: left;margin-right: 0.25em;color: #696969;}#sk-container-id-3 label.sk-toggleable__label-arrow:hover:before {color: black;}#sk-container-id-3 div.sk-estimator:hover label.sk-toggleable__label-arrow:before {color: black;}#sk-container-id-3 div.sk-toggleable__content {max-height: 0;max-width: 0;overflow: hidden;text-align: left;background-color: #f0f8ff;}#sk-container-id-3 div.sk-toggleable__content pre {margin: 0.2em;color: black;border-radius: 0.25em;background-color: #f0f8ff;}#sk-container-id-3 input.sk-toggleable__control:checked~div.sk-toggleable__content {max-height: 200px;max-width: 100%;overflow: auto;}#sk-container-id-3 input.sk-toggleable__control:checked~label.sk-toggleable__label-arrow:before {content: \"▾\";}#sk-container-id-3 div.sk-estimator input.sk-toggleable__control:checked~label.sk-toggleable__label {background-color: #d4ebff;}#sk-container-id-3 div.sk-label input.sk-toggleable__control:checked~label.sk-toggleable__label {background-color: #d4ebff;}#sk-container-id-3 input.sk-hidden--visually {border: 0;clip: rect(1px 1px 1px 1px);clip: rect(1px, 1px, 1px, 1px);height: 1px;margin: -1px;overflow: hidden;padding: 0;position: absolute;width: 1px;}#sk-container-id-3 div.sk-estimator {font-family: monospace;background-color: #f0f8ff;border: 1px dotted black;border-radius: 0.25em;box-sizing: border-box;margin-bottom: 0.5em;}#sk-container-id-3 div.sk-estimator:hover {background-color: #d4ebff;}#sk-container-id-3 div.sk-parallel-item::after {content: \"\";width: 100%;border-bottom: 1px solid gray;flex-grow: 1;}#sk-container-id-3 div.sk-label:hover label.sk-toggleable__label {background-color: #d4ebff;}#sk-container-id-3 div.sk-serial::before {content: \"\";position: absolute;border-left: 1px solid gray;box-sizing: border-box;top: 0;bottom: 0;left: 50%;z-index: 0;}#sk-container-id-3 div.sk-serial {display: flex;flex-direction: column;align-items: center;background-color: white;padding-right: 0.2em;padding-left: 0.2em;position: relative;}#sk-container-id-3 div.sk-item {position: relative;z-index: 1;}#sk-container-id-3 div.sk-parallel {display: flex;align-items: stretch;justify-content: center;background-color: white;position: relative;}#sk-container-id-3 div.sk-item::before, #sk-container-id-3 div.sk-parallel-item::before {content: \"\";position: absolute;border-left: 1px solid gray;box-sizing: border-box;top: 0;bottom: 0;left: 50%;z-index: -1;}#sk-container-id-3 div.sk-parallel-item {display: flex;flex-direction: column;z-index: 1;position: relative;background-color: white;}#sk-container-id-3 div.sk-parallel-item:first-child::after {align-self: flex-end;width: 50%;}#sk-container-id-3 div.sk-parallel-item:last-child::after {align-self: flex-start;width: 50%;}#sk-container-id-3 div.sk-parallel-item:only-child::after {width: 0;}#sk-container-id-3 div.sk-dashed-wrapped {border: 1px dashed gray;margin: 0 0.4em 0.5em 0.4em;box-sizing: border-box;padding-bottom: 0.4em;background-color: white;}#sk-container-id-3 div.sk-label label {font-family: monospace;font-weight: bold;display: inline-block;line-height: 1.2em;}#sk-container-id-3 div.sk-label-container {text-align: center;}#sk-container-id-3 div.sk-container {/* jupyter's `normalize.less` sets `[hidden] { display: none; }` but bootstrap.min.css set `[hidden] { display: none !important; }` so we also need the `!important` here to be able to override the default hidden behavior on the sphinx rendered scikit-learn.org. See: https://github.com/scikit-learn/scikit-learn/issues/21755 */display: inline-block !important;position: relative;}#sk-container-id-3 div.sk-text-repr-fallback {display: none;}</style><div id=\"sk-container-id-3\" class=\"sk-top-container\"><div class=\"sk-text-repr-fallback\"><pre>LogisticRegression()</pre><b>In a Jupyter environment, please rerun this cell to show the HTML representation or trust the notebook. <br />On GitHub, the HTML representation is unable to render, please try loading this page with nbviewer.org.</b></div><div class=\"sk-container\" hidden><div class=\"sk-item\"><div class=\"sk-estimator sk-toggleable\"><input class=\"sk-toggleable__control sk-hidden--visually\" id=\"sk-estimator-id-3\" type=\"checkbox\" checked><label for=\"sk-estimator-id-3\" class=\"sk-toggleable__label sk-toggleable__label-arrow\">LogisticRegression</label><div class=\"sk-toggleable__content\"><pre>LogisticRegression()</pre></div></div></div></div></div>"
      ],
      "text/plain": [
       "LogisticRegression()"
      ]
     },
     "execution_count": 127,
     "metadata": {},
     "output_type": "execute_result"
    }
   ],
   "source": [
    "# Train the model\n",
    "model.fit(train_data_normalized, train_labels_normalized)\n"
   ]
  },
  {
   "cell_type": "code",
   "execution_count": 128,
   "id": "fd67e336",
   "metadata": {},
   "outputs": [],
   "source": [
    "# Make predictions on the test set\n",
    "y_pred = model.predict(test_data_normalized)\n"
   ]
  },
  {
   "cell_type": "code",
   "execution_count": 129,
   "id": "efef2434",
   "metadata": {},
   "outputs": [],
   "source": [
    "# Evaluate the model\n",
    "accuracy = accuracy_score(test_labels_normalized, y_pred)\n",
    "classification_report_str = classification_report(test_labels_normalized, y_pred)\n",
    "conf_matrix = confusion_matrix(test_labels_normalized, y_pred)\n"
   ]
  },
  {
   "cell_type": "code",
   "execution_count": 130,
   "id": "b1f91e45",
   "metadata": {},
   "outputs": [
    {
     "data": {
      "image/png": "[encoded data removed]",
      "text/plain": [
       "<Figure size 640x480 with 2 Axes>"
      ]
     },
     "metadata": {},
     "output_type": "display_data"
    }
   ],
   "source": [
    "# Plot confusion matrix\n",
    "plot_confusion_matrix(test_labels_normalized, y_pred, title='Confusion Matrix')\n",
    "plt.show()"
   ]
  },
  {
   "cell_type": "code",
   "execution_count": 131,
   "id": "70364307",
   "metadata": {},
   "outputs": [
    {
     "data": {
      "image/png": "[encoded data removed]",
      "text/plain": [
       "<Figure size 800x600 with 1 Axes>"
      ]
     },
     "metadata": {},
     "output_type": "display_data"
    }
   ],
   "source": [
    "# Plot ROC curve\n",
    "y_probs = model.predict_proba(test_data_normalized)\n",
    "fpr, tpr, thresholds = roc_curve(test_labels_normalized, y_probs[:, 1])\n",
    "roc_auc = auc(fpr, tpr)\n",
    "\n",
    "plt.figure(figsize=(8, 6))\n",
    "plt.plot(fpr, tpr, color='darkorange', lw=2, label='ROC curve (area = {:.2f})'.format(roc_auc))\n",
    "plt.plot([0, 1], [0, 1], color='navy', lw=2, linestyle='--')\n",
    "plt.xlabel('False Positive Rate')\n",
    "plt.ylabel('True Positive Rate')\n",
    "plt.title('Receiver Operating Characteristic (ROC) Curve')\n",
    "plt.legend(loc='lower right')\n",
    "plt.show()"
   ]
  },
  {
   "cell_type": "code",
   "execution_count": 132,
   "id": "82f84e66",
   "metadata": {},
   "outputs": [
    {
     "name": "stdout",
     "output_type": "stream",
     "text": [
      "Accuracy: 0.5833333333333334\n",
      "Classification Report:\n",
      "              precision    recall  f1-score   support\n",
      "\n",
      "           0       0.59      0.56      0.57       300\n",
      "           1       0.58      0.61      0.59       300\n",
      "\n",
      "    accuracy                           0.58       600\n",
      "   macro avg       0.58      0.58      0.58       600\n",
      "weighted avg       0.58      0.58      0.58       600\n",
      "\n",
      "Confusion Matrix:\n",
      "[[168 132]\n",
      " [118 182]]\n"
     ]
    }
   ],
   "source": [
    "# Print the results\n",
    "print(f\"Accuracy: {accuracy}\")\n",
    "print(\"Classification Report:\")\n",
    "print(classification_report_str)\n",
    "print(\"Confusion Matrix:\")\n",
    "print(conf_matrix)\n"
   ]
  },
  {
   "cell_type": "code",
   "execution_count": 133,
   "id": "2a3c01a2",
   "metadata": {},
   "outputs": [],
   "source": [
    "from skimage import feature\n",
    "from sklearn.preprocessing import StandardScaler\n",
    "\n",
    "# Function to load data with pixel normalization\n",
    "def load_data(data_directory):\n",
    "    directories = [d for d in os.listdir(data_directory) if os.path.isdir(os.path.join(data_directory, d))]\n",
    "    \n",
    "    class_to_label = {class_name: i for i, class_name in enumerate(directories)}\n",
    "    \n",
    "    labels = []\n",
    "    images = []\n",
    "    \n",
    "    for d in directories:\n",
    "        label_directory = os.path.join(data_directory, d)\n",
    "        file_names = [os.path.join(label_directory, f) for f in os.listdir(label_directory) if f.endswith(\".jpg\")]\n",
    "        label = class_to_label[d]\n",
    "        for f in file_names:\n",
    "            img = skimage.io.imread(f)\n",
    "            img_resized = resize(img, (28, 28))\n",
    "            gray_img = rgb2gray(img_resized)\n",
    "            images.append(gray_img.flatten())\n",
    "            labels.append(label)\n",
    "    return images, labels, class_to_label\n",
    "\n"
   ]
  },
  {
   "cell_type": "code",
   "execution_count": 134,
   "id": "8e64ce7a",
   "metadata": {},
   "outputs": [],
   "source": [
    "# Function to extract HOG features\n",
    "def extract_hog_features(images):\n",
    "    hog_features_list = []\n",
    "    \n",
    "    for img in images:\n",
    "        hog_features = feature.hog(img, pixels_per_cell=(8, 8), cells_per_block=(2, 2), block_norm='L2-Hys')\n",
    "        hog_features_list.append(hog_features)\n",
    "    \n",
    "    return np.array(hog_features_list)"
   ]
  },
  {
   "cell_type": "code",
   "execution_count": 135,
   "id": "2ddce0c3",
   "metadata": {},
   "outputs": [
    {
     "name": "stderr",
     "output_type": "stream",
     "text": [
      "C:\\Users\\Menna\\anaconda3\\lib\\site-packages\\PIL\\TiffImagePlugin.py:858: UserWarning: Truncated File Read\n",
      "  warnings.warn(str(msg))\n",
      "C:\\Users\\Menna\\anaconda3\\lib\\site-packages\\PIL\\TiffImagePlugin.py:858: UserWarning: Corrupt EXIF data.  Expecting to read 12 bytes but only got 0. \n",
      "  warnings.warn(str(msg))\n",
      "C:\\Users\\Menna\\anaconda3\\lib\\site-packages\\PIL\\TiffImagePlugin.py:858: UserWarning: Corrupt EXIF data.  Expecting to read 12 bytes but only got 3. \n",
      "  warnings.warn(str(msg))\n"
     ]
    }
   ],
   "source": [
    "# Load training data with feature extraction\n",
    "train_data_with_features = r'C:\\Food-101-minimized\\train'\n",
    "test_data_with_features = r'C:\\Food-101-minimized\\test'\n",
    "\n",
    "train_data_with_features, train_labels_with_features, class_to_label = load_and_extract_features(train_data_with_features)\n",
    "test_data_with_features, test_labels_with_features, _ = load_and_extract_features(test_data_with_features)\n",
    "\n",
    "# Normalize pixel values and features between 0 and 1\n",
    "scaler = MinMaxScaler()\n",
    "train_data_normalized = scaler.fit_transform(train_data_with_features)\n",
    "test_data_normalized = scaler.transform(test_data_with_features)\n",
    "\n"
   ]
  },
  {
   "cell_type": "code",
   "execution_count": 136,
   "id": "6e0a7a84",
   "metadata": {},
   "outputs": [
    {
     "name": "stderr",
     "output_type": "stream",
     "text": [
      "C:\\Users\\Menna\\AppData\\Roaming\\Python\\Python310\\site-packages\\sklearn\\linear_model\\_logistic.py:460: ConvergenceWarning: lbfgs failed to converge (status=1):\n",
      "STOP: TOTAL NO. of ITERATIONS REACHED LIMIT.\n",
      "\n",
      "Increase the number of iterations (max_iter) or scale the data as shown in:\n",
      "    https://scikit-learn.org/stable/modules/preprocessing.html\n",
      "Please also refer to the documentation for alternative solver options:\n",
      "    https://scikit-learn.org/stable/modules/linear_model.html#logistic-regression\n",
      "  n_iter_i = _check_optimize_result(\n"
     ]
    }
   ],
   "source": [
    "# Create a logistic regression model\n",
    "model = LogisticRegression()\n",
    "\n",
    "# Train the model\n",
    "model.fit(train_data_normalized, train_labels_with_features)\n",
    "\n",
    "# Make predictions on the test set\n",
    "y_pred = model.predict(test_data_normalized)\n",
    "\n"
   ]
  },
  {
   "cell_type": "code",
   "execution_count": 137,
   "id": "7db3463b",
   "metadata": {},
   "outputs": [
    {
     "name": "stdout",
     "output_type": "stream",
     "text": [
      "Accuracy: 0.6516666666666666\n",
      "Classification Report:\n",
      "              precision    recall  f1-score   support\n",
      "\n",
      "           0       0.66      0.62      0.64       300\n",
      "           1       0.64      0.69      0.66       300\n",
      "\n",
      "    accuracy                           0.65       600\n",
      "   macro avg       0.65      0.65      0.65       600\n",
      "weighted avg       0.65      0.65      0.65       600\n",
      "\n",
      "Confusion Matrix:\n",
      "[[185 115]\n",
      " [ 94 206]]\n"
     ]
    }
   ],
   "source": [
    "# Evaluate the model\n",
    "accuracy = accuracy_score(test_labels_with_features, y_pred)\n",
    "classification_report_str = classification_report(test_labels_with_features, y_pred)\n",
    "conf_matrix = confusion_matrix(test_labels_with_features, y_pred)\n",
    "\n",
    "# Print the results\n",
    "print(f\"Accuracy: {accuracy}\")\n",
    "print(\"Classification Report:\")\n",
    "print(classification_report_str)\n",
    "print(\"Confusion Matrix:\")\n",
    "print(conf_matrix)"
   ]
  },
  {
   "cell_type": "code",
   "execution_count": null,
   "id": "4b7093c0",
   "metadata": {},
   "outputs": [],
   "source": []
  },
  {
   "cell_type": "code",
   "execution_count": null,
   "id": "a0a0225d",
   "metadata": {},
   "outputs": [],
   "source": []
  }
 ],
 "metadata": {
  "kernelspec": {
   "display_name": "Python 3 (ipykernel)",
   "language": "python",
   "name": "python3"
  },
  "language_info": {
   "codemirror_mode": {
    "name": "ipython",
    "version": 3
   },
   "file_extension": ".py",
   "mimetype": "text/x-python",
   "name": "python",
   "nbconvert_exporter": "python",
   "pygments_lexer": "ipython3",
   "version": "3.10.9"
  }
 },
 "nbformat": 4,
 "nbformat_minor": 5
}
